{
 "cells": [
  {
   "cell_type": "code",
   "execution_count": null,
   "id": "a2c41466-8d4b-4eee-8c2b-f94634ff3c7a",
   "metadata": {},
   "outputs": [],
   "source": [
    "# Titel: ETL processen en FAIR principes\n",
    "# Auteur: Sander van Linschoten\n",
    "# Beschrijving: Dit notebook bevat een analyse van een dataset met orderinformatie"
   ]
  },
  {
   "cell_type": "code",
   "execution_count": 1,
   "id": "91460ce6-f73c-4c8f-be9d-769d70bdb6c7",
   "metadata": {},
   "outputs": [],
   "source": [
    "# Bibliotheken importeren\n",
    "import pandas as pd\n",
    "import numpy as np"
   ]
  },
  {
   "cell_type": "code",
   "execution_count": 2,
   "id": "7c5ef0d7-98eb-4908-b2cb-f67baa34cca1",
   "metadata": {},
   "outputs": [
    {
     "data": {
      "text/html": [
       "<div>\n",
       "<style scoped>\n",
       "    .dataframe tbody tr th:only-of-type {\n",
       "        vertical-align: middle;\n",
       "    }\n",
       "\n",
       "    .dataframe tbody tr th {\n",
       "        vertical-align: top;\n",
       "    }\n",
       "\n",
       "    .dataframe thead th {\n",
       "        text-align: right;\n",
       "    }\n",
       "</style>\n",
       "<table border=\"1\" class=\"dataframe\">\n",
       "  <thead>\n",
       "    <tr style=\"text-align: right;\">\n",
       "      <th></th>\n",
       "      <th>OrderID</th>\n",
       "      <th>ProductID</th>\n",
       "      <th>CustomerID</th>\n",
       "      <th>OrderDate</th>\n",
       "      <th>Price</th>\n",
       "      <th>Quantity</th>\n",
       "    </tr>\n",
       "  </thead>\n",
       "  <tbody>\n",
       "    <tr>\n",
       "      <th>0</th>\n",
       "      <td>1</td>\n",
       "      <td>2201</td>\n",
       "      <td>1</td>\n",
       "      <td>2017-12-02</td>\n",
       "      <td>41.905</td>\n",
       "      <td>1</td>\n",
       "    </tr>\n",
       "    <tr>\n",
       "      <th>1</th>\n",
       "      <td>1002</td>\n",
       "      <td>5205</td>\n",
       "      <td>41</td>\n",
       "      <td>2017-12-02</td>\n",
       "      <td>33.900</td>\n",
       "      <td>3</td>\n",
       "    </tr>\n",
       "    <tr>\n",
       "      <th>2</th>\n",
       "      <td>1002</td>\n",
       "      <td>102181</td>\n",
       "      <td>41</td>\n",
       "      <td>2017-12-02</td>\n",
       "      <td>1652.860</td>\n",
       "      <td>3</td>\n",
       "    </tr>\n",
       "    <tr>\n",
       "      <th>3</th>\n",
       "      <td>1003</td>\n",
       "      <td>2213</td>\n",
       "      <td>77</td>\n",
       "      <td>2017-12-02</td>\n",
       "      <td>48.510</td>\n",
       "      <td>3</td>\n",
       "    </tr>\n",
       "    <tr>\n",
       "      <th>4</th>\n",
       "      <td>1003</td>\n",
       "      <td>5402</td>\n",
       "      <td>77</td>\n",
       "      <td>2017-12-02</td>\n",
       "      <td>13.780</td>\n",
       "      <td>3</td>\n",
       "    </tr>\n",
       "  </tbody>\n",
       "</table>\n",
       "</div>"
      ],
      "text/plain": [
       "   OrderID  ProductID  CustomerID   OrderDate     Price  Quantity\n",
       "0        1       2201           1  2017-12-02    41.905         1\n",
       "1     1002       5205          41  2017-12-02    33.900         3\n",
       "2     1002     102181          41  2017-12-02  1652.860         3\n",
       "3     1003       2213          77  2017-12-02    48.510         3\n",
       "4     1003       5402          77  2017-12-02    13.780         3"
      ]
     },
     "execution_count": 2,
     "metadata": {},
     "output_type": "execute_result"
    }
   ],
   "source": [
    "# Dataset inladen en eerste paar rijen bekijken\n",
    "df = pd.read_csv('Orders.csv')\n",
    "df.head()"
   ]
  },
  {
   "cell_type": "code",
   "execution_count": 3,
   "id": "126d29b4-1fc9-474a-a5a9-bb79b7473d49",
   "metadata": {},
   "outputs": [
    {
     "name": "stdout",
     "output_type": "stream",
     "text": [
      "Gemiddelde van de kolom 'Price': 538.1734269815419\n"
     ]
    }
   ],
   "source": [
    "# Gemiddelde berekenen van de kolom 'Price'\n",
    "gemiddelde = df['Price'].mean()\n",
    "print (\"Gemiddelde van de kolom 'Price':\", gemiddelde)"
   ]
  },
  {
   "cell_type": "code",
   "execution_count": 4,
   "id": "6bdfc718-470f-4d10-b4d4-eac91a24194d",
   "metadata": {},
   "outputs": [
    {
     "name": "stdout",
     "output_type": "stream",
     "text": [
      "Mediaan van de kolom 'Price': 53.9\n"
     ]
    }
   ],
   "source": [
    "# Mediaan berekenen van de kolom 'Price'\n",
    "mediaan = df['Price'].median()\n",
    "print(\"Mediaan van de kolom 'Price':\", mediaan)"
   ]
  },
  {
   "cell_type": "code",
   "execution_count": 5,
   "id": "b3bb7493-b648-4914-8cb8-7dd820cf5e0e",
   "metadata": {},
   "outputs": [
    {
     "name": "stdout",
     "output_type": "stream",
     "text": [
      "Minimale prijs: 4.05\n",
      "Maximale prijs: 2939.85\n"
     ]
    }
   ],
   "source": [
    "# De minimale en maximale prijs berekenen van de kolom 'Price'\n",
    "min_prijs = df['Price'].min()\n",
    "max_prijs = df['Price'].max()\n",
    "print(\"Minimale prijs:\", min_prijs)\n",
    "print(\"Maximale prijs:\", max_prijs)"
   ]
  },
  {
   "cell_type": "code",
   "execution_count": 6,
   "id": "b8a0e40e-39cc-4d42-81aa-063d126a7c05",
   "metadata": {},
   "outputs": [
    {
     "name": "stdout",
     "output_type": "stream",
     "text": [
      "25e percentiel: 21.9\n",
      "50e percentiel (mediaan): 53.9\n",
      "75e percentiel: 764.85\n"
     ]
    }
   ],
   "source": [
    "# Percentielen en interkwartielafstand berekenen\n",
    "kwartiel_25 = df['Price'].quantile(0.25)\n",
    "kwartiel_50 = df['Price'].quantile(0.50)\n",
    "kwartiel_75 = df['Price'].quantile(0.75)\n",
    "print(\"25e percentiel:\", kwartiel_25)\n",
    "print(\"50e percentiel (mediaan):\", kwartiel_50)\n",
    "print(\"75e percentiel:\", kwartiel_75)"
   ]
  },
  {
   "cell_type": "code",
   "execution_count": null,
   "id": "6bc07190-3240-4661-a20e-3b7d6f8ba0b8",
   "metadata": {},
   "outputs": [],
   "source": []
  }
 ],
 "metadata": {
  "kernelspec": {
   "display_name": "Python 3 (ipykernel)",
   "language": "python",
   "name": "python3"
  },
  "language_info": {
   "codemirror_mode": {
    "name": "ipython",
    "version": 3
   },
   "file_extension": ".py",
   "mimetype": "text/x-python",
   "name": "python",
   "nbconvert_exporter": "python",
   "pygments_lexer": "ipython3",
   "version": "3.12.4"
  }
 },
 "nbformat": 4,
 "nbformat_minor": 5
}
